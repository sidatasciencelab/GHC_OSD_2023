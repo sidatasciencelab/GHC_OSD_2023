{
  "nbformat": 4,
  "nbformat_minor": 0,
  "metadata": {
    "colab": {
      "provenance": []
    },
    "kernelspec": {
      "name": "python3",
      "display_name": "Python 3"
    },
    "language_info": {
      "name": "python"
    },
    "widgets": {
      "application/vnd.jupyter.widget-state+json": {
        "e0a2b5e899684606a90e44acc068bbb8": {
          "model_module": "@jupyter-widgets/controls",
          "model_name": "HBoxModel",
          "model_module_version": "1.5.0",
          "state": {
            "_dom_classes": [],
            "_model_module": "@jupyter-widgets/controls",
            "_model_module_version": "1.5.0",
            "_model_name": "HBoxModel",
            "_view_count": null,
            "_view_module": "@jupyter-widgets/controls",
            "_view_module_version": "1.5.0",
            "_view_name": "HBoxView",
            "box_style": "",
            "children": [
              "IPY_MODEL_fb80a26203c0472cab8f1377c28aaf66",
              "IPY_MODEL_5bf46d47d031490eb8c9deeee90c7326",
              "IPY_MODEL_c8a6431486604da6a6fdc3ba101114f2"
            ],
            "layout": "IPY_MODEL_f4e74e7326e44c1db52b1b3a37cf000f"
          }
        },
        "fb80a26203c0472cab8f1377c28aaf66": {
          "model_module": "@jupyter-widgets/controls",
          "model_name": "HTMLModel",
          "model_module_version": "1.5.0",
          "state": {
            "_dom_classes": [],
            "_model_module": "@jupyter-widgets/controls",
            "_model_module_version": "1.5.0",
            "_model_name": "HTMLModel",
            "_view_count": null,
            "_view_module": "@jupyter-widgets/controls",
            "_view_module_version": "1.5.0",
            "_view_name": "HTMLView",
            "description": "",
            "description_tooltip": null,
            "layout": "IPY_MODEL_5bc7a5f22fd94d8f8cd69f42aa5959e4",
            "placeholder": "​",
            "style": "IPY_MODEL_3ca6d03499cd4b7bb4a3eef5fbeed7f3",
            "value": "Downloading readme: 100%"
          }
        },
        "5bf46d47d031490eb8c9deeee90c7326": {
          "model_module": "@jupyter-widgets/controls",
          "model_name": "FloatProgressModel",
          "model_module_version": "1.5.0",
          "state": {
            "_dom_classes": [],
            "_model_module": "@jupyter-widgets/controls",
            "_model_module_version": "1.5.0",
            "_model_name": "FloatProgressModel",
            "_view_count": null,
            "_view_module": "@jupyter-widgets/controls",
            "_view_module_version": "1.5.0",
            "_view_name": "ProgressView",
            "bar_style": "success",
            "description": "",
            "description_tooltip": null,
            "layout": "IPY_MODEL_7d06eb99330244afae69c3dec618aaec",
            "max": 8898,
            "min": 0,
            "orientation": "horizontal",
            "style": "IPY_MODEL_6b58b28046294d619c7db53d329b5529",
            "value": 8898
          }
        },
        "c8a6431486604da6a6fdc3ba101114f2": {
          "model_module": "@jupyter-widgets/controls",
          "model_name": "HTMLModel",
          "model_module_version": "1.5.0",
          "state": {
            "_dom_classes": [],
            "_model_module": "@jupyter-widgets/controls",
            "_model_module_version": "1.5.0",
            "_model_name": "HTMLModel",
            "_view_count": null,
            "_view_module": "@jupyter-widgets/controls",
            "_view_module_version": "1.5.0",
            "_view_name": "HTMLView",
            "description": "",
            "description_tooltip": null,
            "layout": "IPY_MODEL_460a501daf0b4ba182bd030b2eaecb5f",
            "placeholder": "​",
            "style": "IPY_MODEL_523bae8be74743d6965a9e9b7a9c0cf8",
            "value": " 8.90k/8.90k [00:00&lt;00:00, 321kB/s]"
          }
        },
        "f4e74e7326e44c1db52b1b3a37cf000f": {
          "model_module": "@jupyter-widgets/base",
          "model_name": "LayoutModel",
          "model_module_version": "1.2.0",
          "state": {
            "_model_module": "@jupyter-widgets/base",
            "_model_module_version": "1.2.0",
            "_model_name": "LayoutModel",
            "_view_count": null,
            "_view_module": "@jupyter-widgets/base",
            "_view_module_version": "1.2.0",
            "_view_name": "LayoutView",
            "align_content": null,
            "align_items": null,
            "align_self": null,
            "border": null,
            "bottom": null,
            "display": null,
            "flex": null,
            "flex_flow": null,
            "grid_area": null,
            "grid_auto_columns": null,
            "grid_auto_flow": null,
            "grid_auto_rows": null,
            "grid_column": null,
            "grid_gap": null,
            "grid_row": null,
            "grid_template_areas": null,
            "grid_template_columns": null,
            "grid_template_rows": null,
            "height": null,
            "justify_content": null,
            "justify_items": null,
            "left": null,
            "margin": null,
            "max_height": null,
            "max_width": null,
            "min_height": null,
            "min_width": null,
            "object_fit": null,
            "object_position": null,
            "order": null,
            "overflow": null,
            "overflow_x": null,
            "overflow_y": null,
            "padding": null,
            "right": null,
            "top": null,
            "visibility": null,
            "width": null
          }
        },
        "5bc7a5f22fd94d8f8cd69f42aa5959e4": {
          "model_module": "@jupyter-widgets/base",
          "model_name": "LayoutModel",
          "model_module_version": "1.2.0",
          "state": {
            "_model_module": "@jupyter-widgets/base",
            "_model_module_version": "1.2.0",
            "_model_name": "LayoutModel",
            "_view_count": null,
            "_view_module": "@jupyter-widgets/base",
            "_view_module_version": "1.2.0",
            "_view_name": "LayoutView",
            "align_content": null,
            "align_items": null,
            "align_self": null,
            "border": null,
            "bottom": null,
            "display": null,
            "flex": null,
            "flex_flow": null,
            "grid_area": null,
            "grid_auto_columns": null,
            "grid_auto_flow": null,
            "grid_auto_rows": null,
            "grid_column": null,
            "grid_gap": null,
            "grid_row": null,
            "grid_template_areas": null,
            "grid_template_columns": null,
            "grid_template_rows": null,
            "height": null,
            "justify_content": null,
            "justify_items": null,
            "left": null,
            "margin": null,
            "max_height": null,
            "max_width": null,
            "min_height": null,
            "min_width": null,
            "object_fit": null,
            "object_position": null,
            "order": null,
            "overflow": null,
            "overflow_x": null,
            "overflow_y": null,
            "padding": null,
            "right": null,
            "top": null,
            "visibility": null,
            "width": null
          }
        },
        "3ca6d03499cd4b7bb4a3eef5fbeed7f3": {
          "model_module": "@jupyter-widgets/controls",
          "model_name": "DescriptionStyleModel",
          "model_module_version": "1.5.0",
          "state": {
            "_model_module": "@jupyter-widgets/controls",
            "_model_module_version": "1.5.0",
            "_model_name": "DescriptionStyleModel",
            "_view_count": null,
            "_view_module": "@jupyter-widgets/base",
            "_view_module_version": "1.2.0",
            "_view_name": "StyleView",
            "description_width": ""
          }
        },
        "7d06eb99330244afae69c3dec618aaec": {
          "model_module": "@jupyter-widgets/base",
          "model_name": "LayoutModel",
          "model_module_version": "1.2.0",
          "state": {
            "_model_module": "@jupyter-widgets/base",
            "_model_module_version": "1.2.0",
            "_model_name": "LayoutModel",
            "_view_count": null,
            "_view_module": "@jupyter-widgets/base",
            "_view_module_version": "1.2.0",
            "_view_name": "LayoutView",
            "align_content": null,
            "align_items": null,
            "align_self": null,
            "border": null,
            "bottom": null,
            "display": null,
            "flex": null,
            "flex_flow": null,
            "grid_area": null,
            "grid_auto_columns": null,
            "grid_auto_flow": null,
            "grid_auto_rows": null,
            "grid_column": null,
            "grid_gap": null,
            "grid_row": null,
            "grid_template_areas": null,
            "grid_template_columns": null,
            "grid_template_rows": null,
            "height": null,
            "justify_content": null,
            "justify_items": null,
            "left": null,
            "margin": null,
            "max_height": null,
            "max_width": null,
            "min_height": null,
            "min_width": null,
            "object_fit": null,
            "object_position": null,
            "order": null,
            "overflow": null,
            "overflow_x": null,
            "overflow_y": null,
            "padding": null,
            "right": null,
            "top": null,
            "visibility": null,
            "width": null
          }
        },
        "6b58b28046294d619c7db53d329b5529": {
          "model_module": "@jupyter-widgets/controls",
          "model_name": "ProgressStyleModel",
          "model_module_version": "1.5.0",
          "state": {
            "_model_module": "@jupyter-widgets/controls",
            "_model_module_version": "1.5.0",
            "_model_name": "ProgressStyleModel",
            "_view_count": null,
            "_view_module": "@jupyter-widgets/base",
            "_view_module_version": "1.2.0",
            "_view_name": "StyleView",
            "bar_color": null,
            "description_width": ""
          }
        },
        "460a501daf0b4ba182bd030b2eaecb5f": {
          "model_module": "@jupyter-widgets/base",
          "model_name": "LayoutModel",
          "model_module_version": "1.2.0",
          "state": {
            "_model_module": "@jupyter-widgets/base",
            "_model_module_version": "1.2.0",
            "_model_name": "LayoutModel",
            "_view_count": null,
            "_view_module": "@jupyter-widgets/base",
            "_view_module_version": "1.2.0",
            "_view_name": "LayoutView",
            "align_content": null,
            "align_items": null,
            "align_self": null,
            "border": null,
            "bottom": null,
            "display": null,
            "flex": null,
            "flex_flow": null,
            "grid_area": null,
            "grid_auto_columns": null,
            "grid_auto_flow": null,
            "grid_auto_rows": null,
            "grid_column": null,
            "grid_gap": null,
            "grid_row": null,
            "grid_template_areas": null,
            "grid_template_columns": null,
            "grid_template_rows": null,
            "height": null,
            "justify_content": null,
            "justify_items": null,
            "left": null,
            "margin": null,
            "max_height": null,
            "max_width": null,
            "min_height": null,
            "min_width": null,
            "object_fit": null,
            "object_position": null,
            "order": null,
            "overflow": null,
            "overflow_x": null,
            "overflow_y": null,
            "padding": null,
            "right": null,
            "top": null,
            "visibility": null,
            "width": null
          }
        },
        "523bae8be74743d6965a9e9b7a9c0cf8": {
          "model_module": "@jupyter-widgets/controls",
          "model_name": "DescriptionStyleModel",
          "model_module_version": "1.5.0",
          "state": {
            "_model_module": "@jupyter-widgets/controls",
            "_model_module_version": "1.5.0",
            "_model_name": "DescriptionStyleModel",
            "_view_count": null,
            "_view_module": "@jupyter-widgets/base",
            "_view_module_version": "1.2.0",
            "_view_name": "StyleView",
            "description_width": ""
          }
        }
      }
    }
  },
  "cells": [
    {
      "cell_type": "code",
      "execution_count": 1,
      "metadata": {
        "colab": {
          "base_uri": "https://localhost:8080/"
        },
        "id": "0nChyIvoP6qi",
        "outputId": "9aa219a8-0635-4f2a-d962-ff26a950ad0c"
      },
      "outputs": [
        {
          "output_type": "stream",
          "name": "stdout",
          "text": [
            "Requirement already satisfied: datasets in /usr/local/lib/python3.10/dist-packages (2.14.5)\n",
            "Requirement already satisfied: numpy>=1.17 in /usr/local/lib/python3.10/dist-packages (from datasets) (1.23.5)\n",
            "Requirement already satisfied: pyarrow>=8.0.0 in /usr/local/lib/python3.10/dist-packages (from datasets) (9.0.0)\n",
            "Requirement already satisfied: dill<0.3.8,>=0.3.0 in /usr/local/lib/python3.10/dist-packages (from datasets) (0.3.7)\n",
            "Requirement already satisfied: pandas in /usr/local/lib/python3.10/dist-packages (from datasets) (1.5.3)\n",
            "Requirement already satisfied: requests>=2.19.0 in /usr/local/lib/python3.10/dist-packages (from datasets) (2.31.0)\n",
            "Requirement already satisfied: tqdm>=4.62.1 in /usr/local/lib/python3.10/dist-packages (from datasets) (4.66.1)\n",
            "Requirement already satisfied: xxhash in /usr/local/lib/python3.10/dist-packages (from datasets) (3.3.0)\n",
            "Requirement already satisfied: multiprocess in /usr/local/lib/python3.10/dist-packages (from datasets) (0.70.15)\n",
            "Requirement already satisfied: fsspec[http]<2023.9.0,>=2023.1.0 in /usr/local/lib/python3.10/dist-packages (from datasets) (2023.6.0)\n",
            "Requirement already satisfied: aiohttp in /usr/local/lib/python3.10/dist-packages (from datasets) (3.8.5)\n",
            "Requirement already satisfied: huggingface-hub<1.0.0,>=0.14.0 in /usr/local/lib/python3.10/dist-packages (from datasets) (0.17.2)\n",
            "Requirement already satisfied: packaging in /usr/local/lib/python3.10/dist-packages (from datasets) (23.1)\n",
            "Requirement already satisfied: pyyaml>=5.1 in /usr/local/lib/python3.10/dist-packages (from datasets) (6.0.1)\n",
            "Requirement already satisfied: attrs>=17.3.0 in /usr/local/lib/python3.10/dist-packages (from aiohttp->datasets) (23.1.0)\n",
            "Requirement already satisfied: charset-normalizer<4.0,>=2.0 in /usr/local/lib/python3.10/dist-packages (from aiohttp->datasets) (3.2.0)\n",
            "Requirement already satisfied: multidict<7.0,>=4.5 in /usr/local/lib/python3.10/dist-packages (from aiohttp->datasets) (6.0.4)\n",
            "Requirement already satisfied: async-timeout<5.0,>=4.0.0a3 in /usr/local/lib/python3.10/dist-packages (from aiohttp->datasets) (4.0.3)\n",
            "Requirement already satisfied: yarl<2.0,>=1.0 in /usr/local/lib/python3.10/dist-packages (from aiohttp->datasets) (1.9.2)\n",
            "Requirement already satisfied: frozenlist>=1.1.1 in /usr/local/lib/python3.10/dist-packages (from aiohttp->datasets) (1.4.0)\n",
            "Requirement already satisfied: aiosignal>=1.1.2 in /usr/local/lib/python3.10/dist-packages (from aiohttp->datasets) (1.3.1)\n",
            "Requirement already satisfied: filelock in /usr/local/lib/python3.10/dist-packages (from huggingface-hub<1.0.0,>=0.14.0->datasets) (3.12.2)\n",
            "Requirement already satisfied: typing-extensions>=3.7.4.3 in /usr/local/lib/python3.10/dist-packages (from huggingface-hub<1.0.0,>=0.14.0->datasets) (4.5.0)\n",
            "Requirement already satisfied: idna<4,>=2.5 in /usr/local/lib/python3.10/dist-packages (from requests>=2.19.0->datasets) (3.4)\n",
            "Requirement already satisfied: urllib3<3,>=1.21.1 in /usr/local/lib/python3.10/dist-packages (from requests>=2.19.0->datasets) (2.0.4)\n",
            "Requirement already satisfied: certifi>=2017.4.17 in /usr/local/lib/python3.10/dist-packages (from requests>=2.19.0->datasets) (2023.7.22)\n",
            "Requirement already satisfied: python-dateutil>=2.8.1 in /usr/local/lib/python3.10/dist-packages (from pandas->datasets) (2.8.2)\n",
            "Requirement already satisfied: pytz>=2020.1 in /usr/local/lib/python3.10/dist-packages (from pandas->datasets) (2023.3.post1)\n",
            "Requirement already satisfied: six>=1.5 in /usr/local/lib/python3.10/dist-packages (from python-dateutil>=2.8.1->pandas->datasets) (1.16.0)\n"
          ]
        }
      ],
      "source": [
        "!pip install datasets"
      ]
    },
    {
      "cell_type": "code",
      "source": [
        "from datasets import load_dataset"
      ],
      "metadata": {
        "id": "cyZYHUoqQHdv"
      },
      "execution_count": 2,
      "outputs": []
    },
    {
      "cell_type": "code",
      "source": [
        "bee_specimens = load_dataset('MikeTrizna/bee_specimens')"
      ],
      "metadata": {
        "colab": {
          "base_uri": "https://localhost:8080/",
          "height": 49,
          "referenced_widgets": [
            "e0a2b5e899684606a90e44acc068bbb8",
            "fb80a26203c0472cab8f1377c28aaf66",
            "5bf46d47d031490eb8c9deeee90c7326",
            "c8a6431486604da6a6fdc3ba101114f2",
            "f4e74e7326e44c1db52b1b3a37cf000f",
            "5bc7a5f22fd94d8f8cd69f42aa5959e4",
            "3ca6d03499cd4b7bb4a3eef5fbeed7f3",
            "7d06eb99330244afae69c3dec618aaec",
            "6b58b28046294d619c7db53d329b5529",
            "460a501daf0b4ba182bd030b2eaecb5f",
            "523bae8be74743d6965a9e9b7a9c0cf8"
          ]
        },
        "id": "RgZnkdzZP8Sl",
        "outputId": "8d0f3850-b884-40d5-ff75-9364990e8930"
      },
      "execution_count": 3,
      "outputs": [
        {
          "output_type": "display_data",
          "data": {
            "text/plain": [
              "Downloading readme:   0%|          | 0.00/8.90k [00:00<?, ?B/s]"
            ],
            "application/vnd.jupyter.widget-view+json": {
              "version_major": 2,
              "version_minor": 0,
              "model_id": "e0a2b5e899684606a90e44acc068bbb8"
            }
          },
          "metadata": {}
        }
      ]
    },
    {
      "cell_type": "code",
      "source": [
        "bee_specimens"
      ],
      "metadata": {
        "id": "0drFv1mnSHCl",
        "colab": {
          "base_uri": "https://localhost:8080/"
        },
        "outputId": "70d648c4-1ad0-49c0-e0e0-2a56817f52f7"
      },
      "execution_count": 4,
      "outputs": [
        {
          "output_type": "execute_result",
          "data": {
            "text/plain": [
              "DatasetDict({\n",
              "    train: Dataset({\n",
              "        features: ['occurrenceID', 'catalogNumber', 'recordedBy', 'year', 'month', 'day', 'country', 'stateProvince', 'county', 'locality', 'decimalLatitude', 'decimalLongitude', 'identifiedBy', 'scientificName', 'genus', 'subgenus', 'specificEpithet', 'infraspecificEpithet', 'scientificNameAuthorship', 'PixelXDimension', 'PixelYDimension', 'accessURI'],\n",
              "        num_rows: 73387\n",
              "    })\n",
              "})"
            ]
          },
          "metadata": {},
          "execution_count": 4
        }
      ]
    },
    {
      "cell_type": "code",
      "source": [
        "bees_df = bee_specimens['train'].to_pandas()\n",
        "bees_df.info()"
      ],
      "metadata": {
        "colab": {
          "base_uri": "https://localhost:8080/"
        },
        "id": "AXaFX1Qmuwl1",
        "outputId": "79b9c0a2-30f4-4bc4-c07a-7032ac6c52cb"
      },
      "execution_count": 6,
      "outputs": [
        {
          "output_type": "stream",
          "name": "stdout",
          "text": [
            "<class 'pandas.core.frame.DataFrame'>\n",
            "RangeIndex: 73387 entries, 0 to 73386\n",
            "Data columns (total 22 columns):\n",
            " #   Column                    Non-Null Count  Dtype  \n",
            "---  ------                    --------------  -----  \n",
            " 0   occurrenceID              73387 non-null  object \n",
            " 1   catalogNumber             73387 non-null  object \n",
            " 2   recordedBy                70437 non-null  object \n",
            " 3   year                      65597 non-null  float64\n",
            " 4   month                     64587 non-null  float64\n",
            " 5   day                       62565 non-null  float64\n",
            " 6   country                   72144 non-null  object \n",
            " 7   stateProvince             72142 non-null  object \n",
            " 8   county                    71287 non-null  object \n",
            " 9   locality                  72140 non-null  object \n",
            " 10  decimalLatitude           73387 non-null  float64\n",
            " 11  decimalLongitude          73387 non-null  float64\n",
            " 12  identifiedBy              8349 non-null   object \n",
            " 13  scientificName            73387 non-null  object \n",
            " 14  genus                     73387 non-null  object \n",
            " 15  subgenus                  49563 non-null  object \n",
            " 16  specificEpithet           71628 non-null  object \n",
            " 17  infraspecificEpithet      9528 non-null   object \n",
            " 18  scientificNameAuthorship  53840 non-null  object \n",
            " 19  PixelXDimension           73387 non-null  float64\n",
            " 20  PixelYDimension           73387 non-null  float64\n",
            " 21  accessURI                 73387 non-null  object \n",
            "dtypes: float64(7), object(15)\n",
            "memory usage: 12.3+ MB\n"
          ]
        }
      ]
    },
    {
      "cell_type": "code",
      "source": [
        "bees_df.columns"
      ],
      "metadata": {
        "colab": {
          "base_uri": "https://localhost:8080/"
        },
        "id": "h4Q28IflwJVo",
        "outputId": "4c686eb1-0786-44d6-a39e-6063ebe39c4a"
      },
      "execution_count": 9,
      "outputs": [
        {
          "output_type": "execute_result",
          "data": {
            "text/plain": [
              "Index(['occurrenceID', 'catalogNumber', 'recordedBy', 'year', 'month', 'day',\n",
              "       'country', 'stateProvince', 'county', 'locality', 'decimalLatitude',\n",
              "       'decimalLongitude', 'identifiedBy', 'scientificName', 'genus',\n",
              "       'subgenus', 'specificEpithet', 'infraspecificEpithet',\n",
              "       'scientificNameAuthorship', 'PixelXDimension', 'PixelYDimension',\n",
              "       'accessURI'],\n",
              "      dtype='object')"
            ]
          },
          "metadata": {},
          "execution_count": 9
        }
      ]
    },
    {
      "cell_type": "code",
      "source": [
        "example = bees_df.loc[bees_df['catalogNumber'] == 'USNMENT01606466']\n",
        "example"
      ],
      "metadata": {
        "colab": {
          "base_uri": "https://localhost:8080/",
          "height": 182
        },
        "id": "s7d1Mn4Yvos2",
        "outputId": "b1713cfe-468e-451e-9abf-1aebcdfd4d3e"
      },
      "execution_count": 12,
      "outputs": [
        {
          "output_type": "execute_result",
          "data": {
            "text/plain": [
              "                                            occurrenceID    catalogNumber  \\\n",
              "54499  http://n2t.net/ark:/65665/3bd80b4e9-ec4f-4f63-...  USNMENT01606466   \n",
              "\n",
              "                 recordedBy    year  month  day country        stateProvince  \\\n",
              "54499  P. Hurd & J. Chemsak  1966.0    8.0  6.0  Mexico  Baja California Sur   \n",
              "\n",
              "             county         locality  ...  identifiedBy  \\\n",
              "54499  [Not Stated]  La Paz, 2 mi. S  ...          None   \n",
              "\n",
              "                                        scientificName     genus  \\\n",
              "54499  Xylocopa (Xylocopoides) californica arizonensis  Xylocopa   \n",
              "\n",
              "           subgenus specificEpithet infraspecificEpithet  \\\n",
              "54499  Xylocopoides     californica          arizonensis   \n",
              "\n",
              "      scientificNameAuthorship PixelXDimension PixelYDimension  \\\n",
              "54499                  Cresson          3300.0          2000.0   \n",
              "\n",
              "                                               accessURI  \n",
              "54499  https://ids.si.edu/ids/deliveryService?id=NMNH...  \n",
              "\n",
              "[1 rows x 22 columns]"
            ],
            "text/html": [
              "\n",
              "  <div id=\"df-5ce2d8b1-1a83-4f46-99a0-0a063e5a2728\" class=\"colab-df-container\">\n",
              "    <div>\n",
              "<style scoped>\n",
              "    .dataframe tbody tr th:only-of-type {\n",
              "        vertical-align: middle;\n",
              "    }\n",
              "\n",
              "    .dataframe tbody tr th {\n",
              "        vertical-align: top;\n",
              "    }\n",
              "\n",
              "    .dataframe thead th {\n",
              "        text-align: right;\n",
              "    }\n",
              "</style>\n",
              "<table border=\"1\" class=\"dataframe\">\n",
              "  <thead>\n",
              "    <tr style=\"text-align: right;\">\n",
              "      <th></th>\n",
              "      <th>occurrenceID</th>\n",
              "      <th>catalogNumber</th>\n",
              "      <th>recordedBy</th>\n",
              "      <th>year</th>\n",
              "      <th>month</th>\n",
              "      <th>day</th>\n",
              "      <th>country</th>\n",
              "      <th>stateProvince</th>\n",
              "      <th>county</th>\n",
              "      <th>locality</th>\n",
              "      <th>...</th>\n",
              "      <th>identifiedBy</th>\n",
              "      <th>scientificName</th>\n",
              "      <th>genus</th>\n",
              "      <th>subgenus</th>\n",
              "      <th>specificEpithet</th>\n",
              "      <th>infraspecificEpithet</th>\n",
              "      <th>scientificNameAuthorship</th>\n",
              "      <th>PixelXDimension</th>\n",
              "      <th>PixelYDimension</th>\n",
              "      <th>accessURI</th>\n",
              "    </tr>\n",
              "  </thead>\n",
              "  <tbody>\n",
              "    <tr>\n",
              "      <th>54499</th>\n",
              "      <td>http://n2t.net/ark:/65665/3bd80b4e9-ec4f-4f63-...</td>\n",
              "      <td>USNMENT01606466</td>\n",
              "      <td>P. Hurd &amp; J. Chemsak</td>\n",
              "      <td>1966.0</td>\n",
              "      <td>8.0</td>\n",
              "      <td>6.0</td>\n",
              "      <td>Mexico</td>\n",
              "      <td>Baja California Sur</td>\n",
              "      <td>[Not Stated]</td>\n",
              "      <td>La Paz, 2 mi. S</td>\n",
              "      <td>...</td>\n",
              "      <td>None</td>\n",
              "      <td>Xylocopa (Xylocopoides) californica arizonensis</td>\n",
              "      <td>Xylocopa</td>\n",
              "      <td>Xylocopoides</td>\n",
              "      <td>californica</td>\n",
              "      <td>arizonensis</td>\n",
              "      <td>Cresson</td>\n",
              "      <td>3300.0</td>\n",
              "      <td>2000.0</td>\n",
              "      <td>https://ids.si.edu/ids/deliveryService?id=NMNH...</td>\n",
              "    </tr>\n",
              "  </tbody>\n",
              "</table>\n",
              "<p>1 rows × 22 columns</p>\n",
              "</div>\n",
              "    <div class=\"colab-df-buttons\">\n",
              "\n",
              "  <div class=\"colab-df-container\">\n",
              "    <button class=\"colab-df-convert\" onclick=\"convertToInteractive('df-5ce2d8b1-1a83-4f46-99a0-0a063e5a2728')\"\n",
              "            title=\"Convert this dataframe to an interactive table.\"\n",
              "            style=\"display:none;\">\n",
              "\n",
              "  <svg xmlns=\"http://www.w3.org/2000/svg\" height=\"24px\" viewBox=\"0 -960 960 960\">\n",
              "    <path d=\"M120-120v-720h720v720H120Zm60-500h600v-160H180v160Zm220 220h160v-160H400v160Zm0 220h160v-160H400v160ZM180-400h160v-160H180v160Zm440 0h160v-160H620v160ZM180-180h160v-160H180v160Zm440 0h160v-160H620v160Z\"/>\n",
              "  </svg>\n",
              "    </button>\n",
              "\n",
              "  <style>\n",
              "    .colab-df-container {\n",
              "      display:flex;\n",
              "      gap: 12px;\n",
              "    }\n",
              "\n",
              "    .colab-df-convert {\n",
              "      background-color: #E8F0FE;\n",
              "      border: none;\n",
              "      border-radius: 50%;\n",
              "      cursor: pointer;\n",
              "      display: none;\n",
              "      fill: #1967D2;\n",
              "      height: 32px;\n",
              "      padding: 0 0 0 0;\n",
              "      width: 32px;\n",
              "    }\n",
              "\n",
              "    .colab-df-convert:hover {\n",
              "      background-color: #E2EBFA;\n",
              "      box-shadow: 0px 1px 2px rgba(60, 64, 67, 0.3), 0px 1px 3px 1px rgba(60, 64, 67, 0.15);\n",
              "      fill: #174EA6;\n",
              "    }\n",
              "\n",
              "    .colab-df-buttons div {\n",
              "      margin-bottom: 4px;\n",
              "    }\n",
              "\n",
              "    [theme=dark] .colab-df-convert {\n",
              "      background-color: #3B4455;\n",
              "      fill: #D2E3FC;\n",
              "    }\n",
              "\n",
              "    [theme=dark] .colab-df-convert:hover {\n",
              "      background-color: #434B5C;\n",
              "      box-shadow: 0px 1px 3px 1px rgba(0, 0, 0, 0.15);\n",
              "      filter: drop-shadow(0px 1px 2px rgba(0, 0, 0, 0.3));\n",
              "      fill: #FFFFFF;\n",
              "    }\n",
              "  </style>\n",
              "\n",
              "    <script>\n",
              "      const buttonEl =\n",
              "        document.querySelector('#df-5ce2d8b1-1a83-4f46-99a0-0a063e5a2728 button.colab-df-convert');\n",
              "      buttonEl.style.display =\n",
              "        google.colab.kernel.accessAllowed ? 'block' : 'none';\n",
              "\n",
              "      async function convertToInteractive(key) {\n",
              "        const element = document.querySelector('#df-5ce2d8b1-1a83-4f46-99a0-0a063e5a2728');\n",
              "        const dataTable =\n",
              "          await google.colab.kernel.invokeFunction('convertToInteractive',\n",
              "                                                    [key], {});\n",
              "        if (!dataTable) return;\n",
              "\n",
              "        const docLinkHtml = 'Like what you see? Visit the ' +\n",
              "          '<a target=\"_blank\" href=https://colab.research.google.com/notebooks/data_table.ipynb>data table notebook</a>'\n",
              "          + ' to learn more about interactive tables.';\n",
              "        element.innerHTML = '';\n",
              "        dataTable['output_type'] = 'display_data';\n",
              "        await google.colab.output.renderOutput(dataTable, element);\n",
              "        const docLink = document.createElement('div');\n",
              "        docLink.innerHTML = docLinkHtml;\n",
              "        element.appendChild(docLink);\n",
              "      }\n",
              "    </script>\n",
              "  </div>\n",
              "\n",
              "    </div>\n",
              "  </div>\n"
            ]
          },
          "metadata": {},
          "execution_count": 12
        }
      ]
    },
    {
      "cell_type": "code",
      "source": [
        "example.to_dict(orient='records')"
      ],
      "metadata": {
        "colab": {
          "base_uri": "https://localhost:8080/"
        },
        "id": "iev2QIG4wDMW",
        "outputId": "8b50be4b-0f8e-4be9-8e5d-57febccb9d37"
      },
      "execution_count": 13,
      "outputs": [
        {
          "output_type": "execute_result",
          "data": {
            "text/plain": [
              "[{'occurrenceID': 'http://n2t.net/ark:/65665/3bd80b4e9-ec4f-4f63-ac6f-a04576b08254',\n",
              "  'catalogNumber': 'USNMENT01606466',\n",
              "  'recordedBy': 'P. Hurd & J. Chemsak',\n",
              "  'year': 1966.0,\n",
              "  'month': 8.0,\n",
              "  'day': 6.0,\n",
              "  'country': 'Mexico',\n",
              "  'stateProvince': 'Baja California Sur',\n",
              "  'county': '[Not Stated]',\n",
              "  'locality': 'La Paz, 2 mi. S',\n",
              "  'decimalLatitude': 0.0,\n",
              "  'decimalLongitude': 0.0,\n",
              "  'identifiedBy': None,\n",
              "  'scientificName': 'Xylocopa (Xylocopoides) californica arizonensis',\n",
              "  'genus': 'Xylocopa',\n",
              "  'subgenus': 'Xylocopoides',\n",
              "  'specificEpithet': 'californica',\n",
              "  'infraspecificEpithet': 'arizonensis',\n",
              "  'scientificNameAuthorship': 'Cresson',\n",
              "  'PixelXDimension': 3300.0,\n",
              "  'PixelYDimension': 2000.0,\n",
              "  'accessURI': 'https://ids.si.edu/ids/deliveryService?id=NMNH-USNMENT01606466'}]"
            ]
          },
          "metadata": {},
          "execution_count": 13
        }
      ]
    },
    {
      "cell_type": "code",
      "source": [],
      "metadata": {
        "id": "uU3YnXHywZRe"
      },
      "execution_count": null,
      "outputs": []
    }
  ]
}